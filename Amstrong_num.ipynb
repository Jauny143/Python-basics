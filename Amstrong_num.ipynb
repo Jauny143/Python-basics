{
  "nbformat": 4,
  "nbformat_minor": 0,
  "metadata": {
    "colab": {
      "name": "Amstrong_num.ipynb",
      "provenance": [],
      "authorship_tag": "ABX9TyN3jxW2JFVAhBo4hiN86DyU",
      "include_colab_link": true
    },
    "kernelspec": {
      "name": "python3",
      "display_name": "Python 3"
    }
  },
  "cells": [
    {
      "cell_type": "markdown",
      "metadata": {
        "id": "view-in-github",
        "colab_type": "text"
      },
      "source": [
        "<a href=\"https://colab.research.google.com/github/Jauny143/Python-basics/blob/main/Amstrong_num.ipynb\" target=\"_parent\"><img src=\"https://colab.research.google.com/assets/colab-badge.svg\" alt=\"Open In Colab\"/></a>"
      ]
    },
    {
      "cell_type": "code",
      "metadata": {
        "colab": {
          "base_uri": "https://localhost:8080/"
        },
        "id": "O0K8vyb76l21",
        "outputId": "763bf6a3-0f6c-4078-e1f8-281322f3adf6"
      },
      "source": [
        "#Check the number is Amstrong or not \r\n",
        "n=input('Enter number\\t')\r\n",
        "k=list(n)\r\n",
        "t=int(n)\r\n",
        "m=len(k)\r\n",
        "lst=[]\r\n",
        "for i in k:\r\n",
        "  p=int(i)\r\n",
        "  lst.append(p)\r\n",
        "lst2=[]\r\n",
        "for j in lst:\r\n",
        "  cube=pow(j,m)\r\n",
        "  lst2.append(cube)\r\n",
        "if sum(lst2)==t:\r\n",
        "  print('Number {} is Amstrong'.format(t))\r\n",
        "else:\r\n",
        "  print('Number {} is not Amstrong'.format(t))  \r\n",
        "\r\n",
        "\r\n",
        "\r\n",
        "\r\n",
        "\r\n",
        "\r\n"
      ],
      "execution_count": 22,
      "outputs": [
        {
          "output_type": "stream",
          "text": [
            "Enter number\t153\n",
            "Number 153 is Amstrong\n"
          ],
          "name": "stdout"
        }
      ]
    }
  ]
}