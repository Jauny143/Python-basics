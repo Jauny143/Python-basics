{
  "nbformat": 4,
  "nbformat_minor": 0,
  "metadata": {
    "colab": {
      "name": "assign_multiple_variable.ipynb",
      "provenance": [],
      "authorship_tag": "ABX9TyOogpGw4/+7ZvIjeYnx5P/3",
      "include_colab_link": true
    },
    "kernelspec": {
      "name": "python3",
      "display_name": "Python 3"
    },
    "language_info": {
      "name": "python"
    }
  },
  "cells": [
    {
      "cell_type": "markdown",
      "metadata": {
        "id": "view-in-github",
        "colab_type": "text"
      },
      "source": [
        "<a href=\"https://colab.research.google.com/github/Jauny143/Python-basics/blob/main/assign_multiple_variable.ipynb\" target=\"_parent\"><img src=\"https://colab.research.google.com/assets/colab-badge.svg\" alt=\"Open In Colab\"/></a>"
      ]
    },
    {
      "cell_type": "code",
      "execution_count": 2,
      "metadata": {
        "colab": {
          "base_uri": "https://localhost:8080/"
        },
        "id": "KJdouT2a4tBG",
        "outputId": "7574ee51-abfb-4496-95c0-486b8778707c"
      },
      "outputs": [
        {
          "output_type": "stream",
          "name": "stdout",
          "text": [
            "enter 3 values separetly1 2 3\n",
            "1 2 3\n"
          ]
        }
      ],
      "source": [
        "values = input('enter 3 values separetly ').split()\n",
        "a, b, c = map(int, values)\n",
        "print(a, b, c)"
      ]
    },
    {
      "cell_type": "code",
      "source": [
        ""
      ],
      "metadata": {
        "id": "eBgtWOm5541O"
      },
      "execution_count": null,
      "outputs": []
    }
  ]
}