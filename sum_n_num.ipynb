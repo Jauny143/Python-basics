{
  "nbformat": 4,
  "nbformat_minor": 0,
  "metadata": {
    "colab": {
      "name": "sum_n_num.ipynb",
      "provenance": [],
      "authorship_tag": "ABX9TyPGk6SFzr8xpG/vn/NEMqiS",
      "include_colab_link": true
    },
    "kernelspec": {
      "name": "python3",
      "display_name": "Python 3"
    }
  },
  "cells": [
    {
      "cell_type": "markdown",
      "metadata": {
        "id": "view-in-github",
        "colab_type": "text"
      },
      "source": [
        "<a href=\"https://colab.research.google.com/github/Jauny143/Python-basics/blob/main/sum_n_num.ipynb\" target=\"_parent\"><img src=\"https://colab.research.google.com/assets/colab-badge.svg\" alt=\"Open In Colab\"/></a>"
      ]
    },
    {
      "cell_type": "code",
      "metadata": {
        "colab": {
          "base_uri": "https://localhost:8080/"
        },
        "id": "CjWz-Lcl8JYU",
        "outputId": "560dc8be-82e6-4ce3-8c94-a1a4ec244f0f"
      },
      "source": [
        "def sum(n):\r\n",
        "    x=0\r\n",
        "    for i in range(n+1):\r\n",
        "        x=x+i\r\n",
        "    print(x)\r\n",
        "\r\n",
        "\r\n",
        "sum(4)  "
      ],
      "execution_count": 9,
      "outputs": [
        {
          "output_type": "stream",
          "text": [
            "10\n"
          ],
          "name": "stdout"
        }
      ]
    }
  ]
}