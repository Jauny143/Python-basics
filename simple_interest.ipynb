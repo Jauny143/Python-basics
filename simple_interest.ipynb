{
  "nbformat": 4,
  "nbformat_minor": 0,
  "metadata": {
    "colab": {
      "name": "simple_interest.ipynb",
      "provenance": [],
      "authorship_tag": "ABX9TyNf8OTrt35PPq8c4z7rNACv",
      "include_colab_link": true
    },
    "kernelspec": {
      "name": "python3",
      "display_name": "Python 3"
    }
  },
  "cells": [
    {
      "cell_type": "markdown",
      "metadata": {
        "id": "view-in-github",
        "colab_type": "text"
      },
      "source": [
        "<a href=\"https://colab.research.google.com/github/Jauny143/Python-basics/blob/main/simple_interest.ipynb\" target=\"_parent\"><img src=\"https://colab.research.google.com/assets/colab-badge.svg\" alt=\"Open In Colab\"/></a>"
      ]
    },
    {
      "cell_type": "code",
      "metadata": {
        "colab": {
          "base_uri": "https://localhost:8080/"
        },
        "id": "O0K8vyb76l21",
        "outputId": "7c0fcf1f-dd01-4968-d9c8-51e822cfc945"
      },
      "source": [
        "#Python program for simple interest \r\n",
        "def simp_interest(p,r,t):\r\n",
        "  simple_interest = (p*r*t)/100\r\n",
        "  print('simple interest is =',simple_interest)\r\n",
        "\r\n",
        "simp_interest(100,2,1)\r\n",
        "\r\n"
      ],
      "execution_count": 2,
      "outputs": [
        {
          "output_type": "stream",
          "text": [
            "simple interest is = 2.0\n"
          ],
          "name": "stdout"
        }
      ]
    }
  ]
}