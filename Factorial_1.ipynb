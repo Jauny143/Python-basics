{
  "nbformat": 4,
  "nbformat_minor": 0,
  "metadata": {
    "colab": {
      "name": "Factorial_1.ipynb",
      "provenance": [],
      "authorship_tag": "ABX9TyOHBScmscbZyDJnTGfxEomi",
      "include_colab_link": true
    },
    "kernelspec": {
      "name": "python3",
      "display_name": "Python 3"
    }
  },
  "cells": [
    {
      "cell_type": "markdown",
      "metadata": {
        "id": "view-in-github",
        "colab_type": "text"
      },
      "source": [
        "<a href=\"https://colab.research.google.com/github/Jauny143/Python-basics/blob/main/Factorial_1.ipynb\" target=\"_parent\"><img src=\"https://colab.research.google.com/assets/colab-badge.svg\" alt=\"Open In Colab\"/></a>"
      ]
    },
    {
      "cell_type": "code",
      "metadata": {
        "colab": {
          "base_uri": "https://localhost:8080/"
        },
        "id": "O0K8vyb76l21",
        "outputId": "ce7893d8-9f41-4332-848d-35fe9cb83801"
      },
      "source": [
        "#factorial of a number\r\n",
        "n=int(input('Enter number\\t'))\r\n",
        "if n==0:\r\n",
        "  print('{}{}={}'.format(0,'!',1))\r\n",
        "elif n<0:\r\n",
        "  print('Factorial can not find')  \r\n",
        "elif n>0:\r\n",
        "  lst=list(range(1,n+1))\r\n",
        "  x=1 \r\n",
        "  for i in lst:\r\n",
        "    x=x*i\r\n",
        "\r\n",
        "  print('{}{}={}'.format(n,'!',x))       \r\n",
        "\r\n",
        "\r\n"
      ],
      "execution_count": 22,
      "outputs": [
        {
          "output_type": "stream",
          "text": [
            "Enter number\t5\n",
            "5!=120\n"
          ],
          "name": "stdout"
        }
      ]
    }
  ]
}