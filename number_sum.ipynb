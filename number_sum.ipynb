{
  "nbformat": 4,
  "nbformat_minor": 0,
  "metadata": {
    "colab": {
      "name": "number_sum.ipynb",
      "provenance": [],
      "authorship_tag": "ABX9TyOkSL/u3nT7BjQ59rkeuX6g",
      "include_colab_link": true
    },
    "kernelspec": {
      "name": "python3",
      "display_name": "Python 3"
    }
  },
  "cells": [
    {
      "cell_type": "markdown",
      "metadata": {
        "id": "view-in-github",
        "colab_type": "text"
      },
      "source": [
        "<a href=\"https://colab.research.google.com/github/Jauny143/Python-basics/blob/main/number_sum.ipynb\" target=\"_parent\"><img src=\"https://colab.research.google.com/assets/colab-badge.svg\" alt=\"Open In Colab\"/></a>"
      ]
    },
    {
      "cell_type": "code",
      "metadata": {
        "id": "O0K8vyb76l21"
      },
      "source": [
        "# sum of two numbers \r\n",
        "x=int(input(\"Enter first number\\t\"))\r\n",
        "y=int(input(\"Enter second number\\t\"))\r\n",
        "print('{}+{}={}'.format(x,y,x+y))"
      ],
      "execution_count": null,
      "outputs": []
    }
  ]
}