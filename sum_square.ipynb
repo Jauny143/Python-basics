{
  "nbformat": 4,
  "nbformat_minor": 0,
  "metadata": {
    "colab": {
      "name": "sum_square.ipynb",
      "provenance": [],
      "authorship_tag": "ABX9TyO+oTYSW2EZdoCGeEw7qjyj",
      "include_colab_link": true
    },
    "kernelspec": {
      "name": "python3",
      "display_name": "Python 3"
    }
  },
  "cells": [
    {
      "cell_type": "markdown",
      "metadata": {
        "id": "view-in-github",
        "colab_type": "text"
      },
      "source": [
        "<a href=\"https://colab.research.google.com/github/Jauny143/Python-basics/blob/main/sum_square.ipynb\" target=\"_parent\"><img src=\"https://colab.research.google.com/assets/colab-badge.svg\" alt=\"Open In Colab\"/></a>"
      ]
    },
    {
      "cell_type": "code",
      "metadata": {
        "colab": {
          "base_uri": "https://localhost:8080/"
        },
        "id": "O0K8vyb76l21",
        "outputId": "aeccb7bf-4900-4cd4-9bff-e1d42f2cbf20"
      },
      "source": [
        "#sum os squares of n numbers\r\n",
        "def sum_square(n):\r\n",
        "  y=0\r\n",
        "  for i in range(1,n+1):\r\n",
        "    y=y+i*i\r\n",
        "  print('Sum of square of first {} natural numbers ={}'.format(n,y))\r\n",
        "sum_square(5)    \r\n"
      ],
      "execution_count": 24,
      "outputs": [
        {
          "output_type": "stream",
          "text": [
            "Sum of square of first 5 natural numbers =55\n"
          ],
          "name": "stdout"
        }
      ]
    }
  ]
}