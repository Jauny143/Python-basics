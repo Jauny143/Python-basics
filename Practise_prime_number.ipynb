{
  "nbformat": 4,
  "nbformat_minor": 0,
  "metadata": {
    "colab": {
      "name": "Practise_prime_number.ipynb",
      "provenance": [],
      "authorship_tag": "ABX9TyP7G4k6EbxMgkv2zA2H8E6G",
      "include_colab_link": true
    },
    "kernelspec": {
      "display_name": "Python 3",
      "name": "python3"
    },
    "accelerator": "GPU"
  },
  "cells": [
    {
      "cell_type": "markdown",
      "metadata": {
        "id": "view-in-github",
        "colab_type": "text"
      },
      "source": [
        "<a href=\"https://colab.research.google.com/github/Jauny143/Python-basics/blob/main/Practise_prime_number.ipynb\" target=\"_parent\"><img src=\"https://colab.research.google.com/assets/colab-badge.svg\" alt=\"Open In Colab\"/></a>"
      ]
    },
    {
      "cell_type": "code",
      "source": [
        "def check_prime_num(n):\n",
        "  lst = []\n",
        "  for i in range(n+1):\n",
        "    if n % (i+1) == 0: \n",
        "      lst.append(i+1) \n",
        "  if len(lst) == 2:\n",
        "    print(f'{n} is prime number')\n",
        "  else:\n",
        "    print(f'{n} is not prime number')\n"
      ],
      "metadata": {
        "id": "pofte11-YIiC"
      },
      "execution_count": 72,
      "outputs": []
    },
    {
      "cell_type": "code",
      "source": [
        "check_prime_num(47)"
      ],
      "metadata": {
        "colab": {
          "base_uri": "https://localhost:8080/"
        },
        "id": "qFK5kmG43aU8",
        "outputId": "eee78e59-be00-41fc-a19b-58d68ad38007"
      },
      "execution_count": null,
      "outputs": [
        {
          "output_type": "stream",
          "name": "stdout",
          "text": [
            "47 is prime number\n"
          ]
        }
      ]
    },
    {
      "cell_type": "code",
      "source": [
        "def gen_prime_num(n):\n",
        "  lst2 = []\n",
        "  for i in range(2,n+1):\n",
        "    lst1 = []\n",
        "    for j in range(1,i+1):\n",
        "      if i % j == 0:\n",
        "        lst1.append(j)        \n",
        "    if len(lst1) == 2:\n",
        "      lst2.append(i)  \n",
        "  print(lst2)         "
      ],
      "metadata": {
        "id": "2U2GhYSY7xIF"
      },
      "execution_count": 64,
      "outputs": []
    },
    {
      "cell_type": "code",
      "source": [
        "gen_prime_num(100)"
      ],
      "metadata": {
        "colab": {
          "base_uri": "https://localhost:8080/"
        },
        "id": "__R6oT1i9gce",
        "outputId": "39d96d84-d9eb-4d07-bf07-fe4f516831a2"
      },
      "execution_count": 66,
      "outputs": [
        {
          "output_type": "stream",
          "name": "stdout",
          "text": [
            "[2, 3, 5, 7, 11, 13, 17, 19, 23, 29, 31, 37, 41, 43, 47, 53, 59, 61, 67, 71, 73, 79, 83, 89, 97]\n"
          ]
        }
      ]
    },
    {
      "cell_type": "code",
      "source": [
        "def gen_prime_bet(a,b):\n",
        "  n = []\n",
        "  for i in range(a,b+1):\n",
        "    m = []\n",
        "    for j in range(1,i+1):\n",
        "      if i%j ==0:\n",
        "        m.append(j)\n",
        "    if len(m)==2:\n",
        "      n.append(i)\n",
        "  print(n)       "
      ],
      "metadata": {
        "id": "P44GySSf-qul"
      },
      "execution_count": 67,
      "outputs": []
    },
    {
      "cell_type": "code",
      "source": [
        "gen_prime_bet(2,100)"
      ],
      "metadata": {
        "colab": {
          "base_uri": "https://localhost:8080/"
        },
        "id": "tOTrdauLKgle",
        "outputId": "9ab31a2a-9842-4652-9b91-9663964c37c5"
      },
      "execution_count": 71,
      "outputs": [
        {
          "output_type": "stream",
          "name": "stdout",
          "text": [
            "[2, 3, 5, 7, 11, 13, 17, 19, 23, 29, 31, 37, 41, 43, 47, 53, 59, 61, 67, 71, 73, 79, 83, 89, 97]\n"
          ]
        }
      ]
    },
    {
      "cell_type": "code",
      "source": [
        ""
      ],
      "metadata": {
        "id": "R3YOMAgFKnYu"
      },
      "execution_count": null,
      "outputs": []
    }
  ]
}