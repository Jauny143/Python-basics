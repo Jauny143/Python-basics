{
  "nbformat": 4,
  "nbformat_minor": 0,
  "metadata": {
    "colab": {
      "name": "Create_and_extract_zipfile.ipynb",
      "provenance": [],
      "authorship_tag": "ABX9TyODcMImYY+1DkJ/rpT3cJ8E",
      "include_colab_link": true
    },
    "kernelspec": {
      "name": "python3",
      "display_name": "Python 3"
    },
    "language_info": {
      "name": "python"
    }
  },
  "cells": [
    {
      "cell_type": "markdown",
      "metadata": {
        "id": "view-in-github",
        "colab_type": "text"
      },
      "source": [
        "<a href=\"https://colab.research.google.com/github/Jauny143/Python-basics/blob/main/Create_and_extract_zipfile.ipynb\" target=\"_parent\"><img src=\"https://colab.research.google.com/assets/colab-badge.svg\" alt=\"Open In Colab\"/></a>"
      ]
    },
    {
      "cell_type": "code",
      "metadata": {
        "id": "AgxZiGaOzQ1I"
      },
      "source": [
        "import zipfile"
      ],
      "execution_count": 1,
      "outputs": []
    },
    {
      "cell_type": "code",
      "metadata": {
        "colab": {
          "base_uri": "https://localhost:8080/"
        },
        "id": "mpewgIhczhII",
        "outputId": "7b3b89d3-51e9-4847-9a44-1837fdc94b1d"
      },
      "source": [
        "with zipfile.ZipFile('Zip_File.zip','w') as zip:\n",
        "  zip.write('j.txt')\n",
        "  zip.write('BNH.png')\n",
        "print('Zip file is created: ')  "
      ],
      "execution_count": 2,
      "outputs": [
        {
          "output_type": "stream",
          "text": [
            "Zip file is created: \n"
          ],
          "name": "stdout"
        }
      ]
    },
    {
      "cell_type": "code",
      "metadata": {
        "colab": {
          "base_uri": "https://localhost:8080/"
        },
        "id": "QXO6Jv9j04ND",
        "outputId": "784f72cd-0a83-47b5-d787-7fc8dd793764"
      },
      "source": [
        "with zipfile.ZipFile('Zip_File.zip','r') as zip:\n",
        "  zip.extractall('Zip_File')\n",
        "  print('Zip file is extracted:')"
      ],
      "execution_count": 3,
      "outputs": [
        {
          "output_type": "stream",
          "text": [
            "Zip file is extracted:\n"
          ],
          "name": "stdout"
        }
      ]
    },
    {
      "cell_type": "code",
      "metadata": {
        "id": "mQEYTgax1mR2"
      },
      "source": [
        ""
      ],
      "execution_count": 3,
      "outputs": []
    }
  ]
}