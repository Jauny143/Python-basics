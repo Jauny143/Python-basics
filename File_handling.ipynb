{
  "nbformat": 4,
  "nbformat_minor": 0,
  "metadata": {
    "colab": {
      "name": "File_handling.ipynb",
      "provenance": [],
      "authorship_tag": "ABX9TyMD2iXMyfjWeJHiPec5KUQW",
      "include_colab_link": true
    },
    "kernelspec": {
      "name": "python3",
      "display_name": "Python 3"
    }
  },
  "cells": [
    {
      "cell_type": "markdown",
      "metadata": {
        "id": "view-in-github",
        "colab_type": "text"
      },
      "source": [
        "<a href=\"https://colab.research.google.com/github/Jauny143/Python-basics/blob/main/File_handling.ipynb\" target=\"_parent\"><img src=\"https://colab.research.google.com/assets/colab-badge.svg\" alt=\"Open In Colab\"/></a>"
      ]
    },
    {
      "cell_type": "code",
      "metadata": {
        "id": "szKf1I8fz4sd"
      },
      "source": [
        "f=open('photo.jpg','rb')\r\n",
        "f1=open('my_photo.jpg','wb')\r\n",
        "for i in f:\r\n",
        "    f1.write(i)\r\n",
        "\r\n"
      ],
      "execution_count": 20,
      "outputs": []
    }
  ]
}