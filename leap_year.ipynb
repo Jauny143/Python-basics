{
  "nbformat": 4,
  "nbformat_minor": 0,
  "metadata": {
    "colab": {
      "name": "leap_year.ipynb",
      "provenance": [],
      "authorship_tag": "ABX9TyOYb64GNV4ZLBnbDySK5c76",
      "include_colab_link": true
    },
    "kernelspec": {
      "name": "python3",
      "display_name": "Python 3"
    }
  },
  "cells": [
    {
      "cell_type": "markdown",
      "metadata": {
        "id": "view-in-github",
        "colab_type": "text"
      },
      "source": [
        "<a href=\"https://colab.research.google.com/github/Jauny143/Python-basics/blob/main/leap_year.ipynb\" target=\"_parent\"><img src=\"https://colab.research.google.com/assets/colab-badge.svg\" alt=\"Open In Colab\"/></a>"
      ]
    },
    {
      "cell_type": "code",
      "metadata": {
        "id": "szKf1I8fz4sd",
        "colab": {
          "base_uri": "https://localhost:8080/"
        },
        "outputId": "490e6c6a-7a61-4ad6-ac8d-1792492059f3"
      },
      "source": [
        "#check the year is leap or not\r\n",
        "Year = int(input('Enter year\\t'))\r\n",
        "if Year%4==0:\r\n",
        "   print('{} is a leap year'.format(Year))\r\n",
        "else:\r\n",
        "    print('{} is not a leap year'.format(Year))   \r\n",
        "\r\n"
      ],
      "execution_count": 7,
      "outputs": [
        {
          "output_type": "stream",
          "text": [
            "Enter year\t2021\n",
            "2021 is not a leap year\n"
          ],
          "name": "stdout"
        }
      ]
    },
    {
      "cell_type": "code",
      "metadata": {
        "id": "vEMNfNs56yYU"
      },
      "source": [
        ""
      ],
      "execution_count": null,
      "outputs": []
    }
  ]
}