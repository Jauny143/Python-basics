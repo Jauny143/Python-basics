{
  "nbformat": 4,
  "nbformat_minor": 0,
  "metadata": {
    "colab": {
      "name": "Factorial_2.ipynb",
      "provenance": [],
      "authorship_tag": "ABX9TyO/QYna0kkx6G0eWXaUDH99",
      "include_colab_link": true
    },
    "kernelspec": {
      "name": "python3",
      "display_name": "Python 3"
    }
  },
  "cells": [
    {
      "cell_type": "markdown",
      "metadata": {
        "id": "view-in-github",
        "colab_type": "text"
      },
      "source": [
        "<a href=\"https://colab.research.google.com/github/Jauny143/Python-basics/blob/main/Factorial_2.ipynb\" target=\"_parent\"><img src=\"https://colab.research.google.com/assets/colab-badge.svg\" alt=\"Open In Colab\"/></a>"
      ]
    },
    {
      "cell_type": "code",
      "metadata": {
        "colab": {
          "base_uri": "https://localhost:8080/"
        },
        "id": "O0K8vyb76l21",
        "outputId": "fde628f8-f674-4d05-bf69-aa154b8289a4"
      },
      "source": [
        "#Factorial of a number using function\r\n",
        "import math\r\n",
        "def factorial(n):\r\n",
        "  if n==1 or n==0:\r\n",
        "    print('{}{}={}'.format(n,'!',1))\r\n",
        "  elif n>0:  \r\n",
        "   x=n*math.factorial(n-1)\r\n",
        "   return x\r\n",
        "\r\n",
        "factorial(6)\r\n",
        "\r\n",
        "\r\n",
        "\r\n"
      ],
      "execution_count": 28,
      "outputs": [
        {
          "output_type": "execute_result",
          "data": {
            "text/plain": [
              "720"
            ]
          },
          "metadata": {
            "tags": []
          },
          "execution_count": 28
        }
      ]
    }
  ]
}