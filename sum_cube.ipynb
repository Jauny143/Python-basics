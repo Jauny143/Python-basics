{
  "nbformat": 4,
  "nbformat_minor": 0,
  "metadata": {
    "colab": {
      "name": "sum_cube.ipynb",
      "provenance": [],
      "authorship_tag": "ABX9TyMRk9H/Ck9U/Y8HWaeM+VO+",
      "include_colab_link": true
    },
    "kernelspec": {
      "name": "python3",
      "display_name": "Python 3"
    }
  },
  "cells": [
    {
      "cell_type": "markdown",
      "metadata": {
        "id": "view-in-github",
        "colab_type": "text"
      },
      "source": [
        "<a href=\"https://colab.research.google.com/github/Jauny143/Python-basics/blob/main/sum_cube.ipynb\" target=\"_parent\"><img src=\"https://colab.research.google.com/assets/colab-badge.svg\" alt=\"Open In Colab\"/></a>"
      ]
    },
    {
      "cell_type": "code",
      "metadata": {
        "colab": {
          "base_uri": "https://localhost:8080/"
        },
        "id": "O0K8vyb76l21",
        "outputId": "ca7c3342-925e-4658-e108-fff0c6e4cb7a"
      },
      "source": [
        "#sum os cubess of n numbers\r\n",
        "def sum_cube(n):\r\n",
        "  y=0\r\n",
        "  for i in range(1,n+1):\r\n",
        "    y=y+i*i*i\r\n",
        "  print('Sum of cubes of first {} natural numbers ={}'.format(n,y))\r\n",
        "sum_cube(3)    \r\n"
      ],
      "execution_count": 26,
      "outputs": [
        {
          "output_type": "stream",
          "text": [
            "Sum of cubes of first 3 natural numbers =36\n"
          ],
          "name": "stdout"
        }
      ]
    }
  ]
}