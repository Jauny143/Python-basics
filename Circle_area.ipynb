{
  "nbformat": 4,
  "nbformat_minor": 0,
  "metadata": {
    "colab": {
      "name": "Circle_area.ipynb",
      "provenance": [],
      "authorship_tag": "ABX9TyOBvpVJWFzycXkOFIDhGbid",
      "include_colab_link": true
    },
    "kernelspec": {
      "name": "python3",
      "display_name": "Python 3"
    }
  },
  "cells": [
    {
      "cell_type": "markdown",
      "metadata": {
        "id": "view-in-github",
        "colab_type": "text"
      },
      "source": [
        "<a href=\"https://colab.research.google.com/github/Jauny143/Python-basics/blob/main/Circle_area.ipynb\" target=\"_parent\"><img src=\"https://colab.research.google.com/assets/colab-badge.svg\" alt=\"Open In Colab\"/></a>"
      ]
    },
    {
      "cell_type": "code",
      "metadata": {
        "colab": {
          "base_uri": "https://localhost:8080/"
        },
        "id": "O0K8vyb76l21",
        "outputId": "f74f72c5-25fd-4435-ce09-947e6168d439"
      },
      "source": [
        "#print the area of the circle\r\n",
        "import math\r\n",
        "def circle_area(r):\r\n",
        "  area = math.pi*r*r\r\n",
        "  print('Area of the circle with radius {} is {}'.format(r,area))\r\n",
        "\r\n",
        "circle_area(3)  \r\n",
        "\r\n",
        " \r\n",
        "\r\n",
        "\r\n",
        "\r\n",
        "\r\n",
        "\r\n",
        "\r\n"
      ],
      "execution_count": 29,
      "outputs": [
        {
          "output_type": "stream",
          "text": [
            "Area of the circle with radius 3 is 28.274333882308138\n"
          ],
          "name": "stdout"
        }
      ]
    }
  ]
}