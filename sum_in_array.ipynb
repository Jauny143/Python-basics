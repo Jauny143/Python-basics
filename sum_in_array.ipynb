{
  "nbformat": 4,
  "nbformat_minor": 0,
  "metadata": {
    "colab": {
      "name": "sum_in_array.ipynb",
      "provenance": [],
      "authorship_tag": "ABX9TyMvHtS4+ULbvt9dL9ot8X2O",
      "include_colab_link": true
    },
    "kernelspec": {
      "name": "python3",
      "display_name": "Python 3"
    },
    "language_info": {
      "name": "python"
    }
  },
  "cells": [
    {
      "cell_type": "markdown",
      "metadata": {
        "id": "view-in-github",
        "colab_type": "text"
      },
      "source": [
        "<a href=\"https://colab.research.google.com/github/Jauny143/Python-basics/blob/main/sum_in_array.ipynb\" target=\"_parent\"><img src=\"https://colab.research.google.com/assets/colab-badge.svg\" alt=\"Open In Colab\"/></a>"
      ]
    },
    {
      "cell_type": "code",
      "metadata": {
        "id": "gBypNnHT4Nqe"
      },
      "source": [
        "def find_sum(arr,val):\n",
        "    lst=[i+j for i in arr for j in arr]\n",
        "    print(lst)\n",
        "    if val in lst:\n",
        "        return True\n",
        "    else:\n",
        "        return False"
      ],
      "execution_count": 5,
      "outputs": []
    },
    {
      "cell_type": "code",
      "metadata": {
        "id": "-II_oSCD4uZT"
      },
      "source": [
        "#[1,2,3,4] = 2,3,4,5,3,4,5,6,4,5,6,7,5,6,7,8"
      ],
      "execution_count": null,
      "outputs": []
    },
    {
      "cell_type": "code",
      "metadata": {
        "colab": {
          "base_uri": "https://localhost:8080/"
        },
        "id": "8IVs26GH4PAC",
        "outputId": "f143cfe5-8b5b-41e7-e8bc-954927e1de4e"
      },
      "source": [
        "find_sum([1,2,3,4],9)"
      ],
      "execution_count": 8,
      "outputs": [
        {
          "output_type": "stream",
          "text": [
            "[2, 3, 4, 5, 3, 4, 5, 6, 4, 5, 6, 7, 5, 6, 7, 8]\n"
          ],
          "name": "stdout"
        },
        {
          "output_type": "execute_result",
          "data": {
            "text/plain": [
              "False"
            ]
          },
          "metadata": {
            "tags": []
          },
          "execution_count": 8
        }
      ]
    },
    {
      "cell_type": "code",
      "metadata": {
        "id": "o6aQZ5wr5Yxb"
      },
      "source": [
        ""
      ],
      "execution_count": null,
      "outputs": []
    }
  ]
}