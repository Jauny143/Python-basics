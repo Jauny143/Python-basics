{
  "nbformat": 4,
  "nbformat_minor": 0,
  "metadata": {
    "colab": {
      "name": "Max of two num.ipynb",
      "provenance": [],
      "authorship_tag": "ABX9TyN6Ov7K7rkwabQGUTYjIPkY",
      "include_colab_link": true
    },
    "kernelspec": {
      "name": "python3",
      "display_name": "Python 3"
    }
  },
  "cells": [
    {
      "cell_type": "markdown",
      "metadata": {
        "id": "view-in-github",
        "colab_type": "text"
      },
      "source": [
        "<a href=\"https://colab.research.google.com/github/Jauny143/Python-basics/blob/main/Max_of_two_num.ipynb\" target=\"_parent\"><img src=\"https://colab.research.google.com/assets/colab-badge.svg\" alt=\"Open In Colab\"/></a>"
      ]
    },
    {
      "cell_type": "code",
      "metadata": {
        "colab": {
          "base_uri": "https://localhost:8080/"
        },
        "id": "O0K8vyb76l21",
        "outputId": "d6dccb57-2ada-4c8f-c73f-df90034747c1"
      },
      "source": [
        "# Maximum of two number \r\n",
        "x=int(input('Enter first number\\t'))\r\n",
        "y=int(input('Enter second number\\t'))\r\n",
        "if x>y:\r\n",
        "  print('{} is greater than {}'.format(x,y))\r\n",
        "else:\r\n",
        "    print('{} is less than {}'.format(x,y))\r\n"
      ],
      "execution_count": 6,
      "outputs": [
        {
          "output_type": "stream",
          "text": [
            "Enter first number\t6\n",
            "Enter second number\t9\n",
            "6 is less than 9\n"
          ],
          "name": "stdout"
        }
      ]
    }
  ]
}