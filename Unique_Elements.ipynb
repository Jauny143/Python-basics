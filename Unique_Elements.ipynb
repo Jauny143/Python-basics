{
  "nbformat": 4,
  "nbformat_minor": 0,
  "metadata": {
    "colab": {
      "name": "Unique Elements.ipynb",
      "provenance": [],
      "authorship_tag": "ABX9TyM7sVh015uGp+8D65o03oFK",
      "include_colab_link": true
    },
    "kernelspec": {
      "name": "python3",
      "display_name": "Python 3"
    }
  },
  "cells": [
    {
      "cell_type": "markdown",
      "metadata": {
        "id": "view-in-github",
        "colab_type": "text"
      },
      "source": [
        "<a href=\"https://colab.research.google.com/github/Jauny143/Python-basics/blob/main/Unique_Elements.ipynb\" target=\"_parent\"><img src=\"https://colab.research.google.com/assets/colab-badge.svg\" alt=\"Open In Colab\"/></a>"
      ]
    },
    {
      "cell_type": "markdown",
      "metadata": {
        "id": "QkNpiVOa1L8U"
      },
      "source": [
        "Unique elements"
      ]
    },
    {
      "cell_type": "code",
      "metadata": {
        "id": "yP5-sAXejB0e"
      },
      "source": [
        "from collections import Counter"
      ],
      "execution_count": 1,
      "outputs": []
    },
    {
      "cell_type": "code",
      "metadata": {
        "colab": {
          "base_uri": "https://localhost:8080/"
        },
        "id": "Q8G00044yeS8",
        "outputId": "ce16de65-f181-47b1-f3e5-e700e1287889"
      },
      "source": [
        "inp=input(\"Enter  numbers with space\")\r\n",
        "inp=list(map(int,inp.split()))\r\n",
        "print('input list',inp)\r\n",
        "d=Counter(inp)"
      ],
      "execution_count": 3,
      "outputs": [
        {
          "output_type": "stream",
          "text": [
            "Enter  numbers with space1 2 2 4 56 77 8 9 0\n",
            "input list [1, 2, 2, 4, 56, 77, 8, 9, 0]\n"
          ],
          "name": "stdout"
        }
      ]
    },
    {
      "cell_type": "code",
      "metadata": {
        "colab": {
          "base_uri": "https://localhost:8080/"
        },
        "id": "IXjs1RsfzLHD",
        "outputId": "928fc25d-6ed4-4391-df49-f9e48d12a477"
      },
      "source": [
        "d\r\n"
      ],
      "execution_count": 4,
      "outputs": [
        {
          "output_type": "execute_result",
          "data": {
            "text/plain": [
              "Counter({0: 1, 1: 1, 2: 2, 4: 1, 8: 1, 9: 1, 56: 1, 77: 1})"
            ]
          },
          "metadata": {
            "tags": []
          },
          "execution_count": 4
        }
      ]
    },
    {
      "cell_type": "code",
      "metadata": {
        "colab": {
          "base_uri": "https://localhost:8080/"
        },
        "id": "AH6kZqdxzTnj",
        "outputId": "4c3d57d6-9c2e-4754-f4b7-0a91bff84fda"
      },
      "source": [
        "type(d)"
      ],
      "execution_count": 5,
      "outputs": [
        {
          "output_type": "execute_result",
          "data": {
            "text/plain": [
              "collections.Counter"
            ]
          },
          "metadata": {
            "tags": []
          },
          "execution_count": 5
        }
      ]
    },
    {
      "cell_type": "code",
      "metadata": {
        "colab": {
          "base_uri": "https://localhost:8080/"
        },
        "id": "mu296AvPzYAi",
        "outputId": "f8244be2-40d3-4cff-c8d0-99effdc192f7"
      },
      "source": [
        "print(\"Unique elements :\", end=\" \")\r\n",
        "for i in d:\r\n",
        "    if d[i]==1:\r\n",
        "       print(i, end=' ')\r\n"
      ],
      "execution_count": 8,
      "outputs": [
        {
          "output_type": "stream",
          "text": [
            "Unique elements : 1 4 56 77 8 9 0 "
          ],
          "name": "stdout"
        }
      ]
    }
  ]
}