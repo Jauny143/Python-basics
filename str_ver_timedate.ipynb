{
  "nbformat": 4,
  "nbformat_minor": 0,
  "metadata": {
    "colab": {
      "name": "str_ver_timedate.ipynb",
      "provenance": [],
      "authorship_tag": "ABX9TyMEPLcvmIO6H4wrJVNMv7nX",
      "include_colab_link": true
    },
    "kernelspec": {
      "name": "python3",
      "display_name": "Python 3"
    }
  },
  "cells": [
    {
      "cell_type": "markdown",
      "metadata": {
        "id": "view-in-github",
        "colab_type": "text"
      },
      "source": [
        "<a href=\"https://colab.research.google.com/github/Jauny143/Python-basics/blob/main/str_ver_timedate.ipynb\" target=\"_parent\"><img src=\"https://colab.research.google.com/assets/colab-badge.svg\" alt=\"Open In Colab\"/></a>"
      ]
    },
    {
      "cell_type": "code",
      "metadata": {
        "id": "szKf1I8fz4sd",
        "colab": {
          "base_uri": "https://localhost:8080/"
        },
        "outputId": "d90f89d4-9237-418c-cca0-96ba1396293c"
      },
      "source": [
        "print('Twinkle, twinkle, little star,\\n\\tHow I wonder what you are!\\n\\t\\tUp above the world so high,\\n\\t\\tLike a diamond in the sky.\\nTwinkle, twinkle, little star,\\n\\tHow I wonder what you are')\r\n",
        "\r\n",
        "   \r\n",
        "\r\n"
      ],
      "execution_count": 6,
      "outputs": [
        {
          "output_type": "stream",
          "text": [
            "Twinkle, twinkle, little star,\n",
            "\tHow I wonder what you are!\n",
            "\t\tUp above the world so high,\n",
            "\t\tLike a diamond in the sky.\n",
            "Twinkle, twinkle, little star,\n",
            "\tHow I wonder what you are\n"
          ],
          "name": "stdout"
        }
      ]
    },
    {
      "cell_type": "code",
      "metadata": {
        "colab": {
          "base_uri": "https://localhost:8080/"
        },
        "id": "y_iFUfcLXCOz",
        "outputId": "60ecf43b-5cc1-427e-f54f-41d47e28ec3d"
      },
      "source": [
        "#version\r\n",
        "import sys\r\n",
        "print(\"Python version\")\r\n",
        "print (sys.version)"
      ],
      "execution_count": 11,
      "outputs": [
        {
          "output_type": "stream",
          "text": [
            "Python version\n",
            "3.6.9 (default, Oct  8 2020, 12:12:24) \n",
            "[GCC 8.4.0]\n"
          ],
          "name": "stdout"
        }
      ]
    },
    {
      "cell_type": "code",
      "metadata": {
        "colab": {
          "base_uri": "https://localhost:8080/"
        },
        "id": "RAkXUjocbG0i",
        "outputId": "ea675dcb-7055-458c-c223-46af6422af22"
      },
      "source": [
        "current date and time\r\n",
        "import datetime\r\n",
        "now=datetime.datetime.now()\r\n",
        "print('Current date and time is:')\r\n",
        "print(now.strftime('%Y-%m-%d, %H:%M:%S'))"
      ],
      "execution_count": 15,
      "outputs": [
        {
          "output_type": "stream",
          "text": [
            "Current date and time is:\n",
            "2021-02-20, 17:15:23\n"
          ],
          "name": "stdout"
        }
      ]
    },
    {
      "cell_type": "code",
      "metadata": {
        "colab": {
          "base_uri": "https://localhost:8080/"
        },
        "id": "Cme9O8IM1ard",
        "outputId": "48c0da60-3545-42d6-aa50-b0905cbc3d75"
      },
      "source": [
        "#sum of n+nn+nnn\r\n",
        "n=int(input(\"Enter number\\t\"))\r\n",
        "n1=int(\"%s\"% n)\r\n",
        "n2=int(\"%s%s\"% (n,n))\r\n",
        "n3=int(\"%s%s%s\"% (n,n,n))\r\n",
        "print(n1+n2+n3)"
      ],
      "execution_count": 16,
      "outputs": [
        {
          "output_type": "stream",
          "text": [
            "Enter number\t5\n",
            "615\n"
          ],
          "name": "stdout"
        }
      ]
    }
  ]
}