{
  "nbformat": 4,
  "nbformat_minor": 0,
  "metadata": {
    "colab": {
      "name": "Short_hand.ipynb",
      "provenance": [],
      "authorship_tag": "ABX9TyPEZYqJAxfUumJ5sj4nvQ2S",
      "include_colab_link": true
    },
    "kernelspec": {
      "name": "python3",
      "display_name": "Python 3"
    },
    "language_info": {
      "name": "python"
    }
  },
  "cells": [
    {
      "cell_type": "markdown",
      "metadata": {
        "id": "view-in-github",
        "colab_type": "text"
      },
      "source": [
        "<a href=\"https://colab.research.google.com/github/Jauny143/Python-basics/blob/main/Short_hand_1.ipynb\" target=\"_parent\"><img src=\"https://colab.research.google.com/assets/colab-badge.svg\" alt=\"Open In Colab\"/></a>"
      ]
    },
    {
      "cell_type": "markdown",
      "metadata": {
        "id": "p95d2r5NMcTr"
      },
      "source": [
        "**Merge dictionaries**"
      ]
    },
    {
      "cell_type": "code",
      "metadata": {
        "id": "5p9c7z2IMlcK"
      },
      "source": [
        "d1 = {\"a\":1,\"b\":2,\"c\":3}\n",
        "d2 = {\"d\":4,\"e\":5,\"f\":6}\n",
        "d3 = {\"g\":7,\"h\":8,\"i\":9}\n",
        "d4 = {\"j\":10,\"k\":11,\"l\":12}"
      ],
      "execution_count": 4,
      "outputs": []
    },
    {
      "cell_type": "code",
      "metadata": {
        "colab": {
          "base_uri": "https://localhost:8080/"
        },
        "id": "qpqy5hVWNEiB",
        "outputId": "c14ff63e-aeb9-4aa2-d28e-7887dca72661"
      },
      "source": [
        "dict(d1,**d2,**d3,**d4)"
      ],
      "execution_count": 5,
      "outputs": [
        {
          "output_type": "execute_result",
          "data": {
            "text/plain": [
              "{'a': 1,\n",
              " 'b': 2,\n",
              " 'c': 3,\n",
              " 'd': 4,\n",
              " 'e': 5,\n",
              " 'f': 6,\n",
              " 'g': 7,\n",
              " 'h': 8,\n",
              " 'i': 9,\n",
              " 'j': 10,\n",
              " 'k': 11,\n",
              " 'l': 12}"
            ]
          },
          "metadata": {
            "tags": []
          },
          "execution_count": 5
        }
      ]
    },
    {
      "cell_type": "code",
      "metadata": {
        "colab": {
          "base_uri": "https://localhost:8080/"
        },
        "id": "VbvT6gs3NQKt",
        "outputId": "3a161cef-81e4-49db-9709-98b5566d3cf6"
      },
      "source": [
        "{**d1,**d2,**d3,**d4}"
      ],
      "execution_count": 7,
      "outputs": [
        {
          "output_type": "execute_result",
          "data": {
            "text/plain": [
              "{'a': 1,\n",
              " 'b': 2,\n",
              " 'c': 3,\n",
              " 'd': 4,\n",
              " 'e': 5,\n",
              " 'f': 6,\n",
              " 'g': 7,\n",
              " 'h': 8,\n",
              " 'i': 9,\n",
              " 'j': 10,\n",
              " 'k': 11,\n",
              " 'l': 12}"
            ]
          },
          "metadata": {
            "tags": []
          },
          "execution_count": 7
        }
      ]
    },
    {
      "cell_type": "markdown",
      "metadata": {
        "id": "KZT5nejiNwLe"
      },
      "source": [
        "**String Joins**"
      ]
    },
    {
      "cell_type": "code",
      "metadata": {
        "colab": {
          "base_uri": "https://localhost:8080/",
          "height": 35
        },
        "id": "cwZQTMZhN0Ud",
        "outputId": "bfcc34b1-ec66-4566-9c0b-7cbb7ce4db98"
      },
      "source": [
        "arr =[\"Jauny!\",\"how\",\"are\",\"you?\"]\n",
        "\"*\".join(arr)"
      ],
      "execution_count": 8,
      "outputs": [
        {
          "output_type": "execute_result",
          "data": {
            "application/vnd.google.colaboratory.intrinsic+json": {
              "type": "string"
            },
            "text/plain": [
              "'Jauny!* how* are* you?'"
            ]
          },
          "metadata": {
            "tags": []
          },
          "execution_count": 8
        }
      ]
    },
    {
      "cell_type": "code",
      "metadata": {
        "colab": {
          "base_uri": "https://localhost:8080/",
          "height": 35
        },
        "id": "4jVpneFROEqp",
        "outputId": "951a4d86-f29d-4788-c505-8ecfecc005ef"
      },
      "source": [
        "\" \".join(arr)"
      ],
      "execution_count": 9,
      "outputs": [
        {
          "output_type": "execute_result",
          "data": {
            "application/vnd.google.colaboratory.intrinsic+json": {
              "type": "string"
            },
            "text/plain": [
              "'Jauny!  how  are  you?'"
            ]
          },
          "metadata": {
            "tags": []
          },
          "execution_count": 9
        }
      ]
    },
    {
      "cell_type": "markdown",
      "metadata": {
        "id": "FX-aUIlsOg18"
      },
      "source": [
        "**Mode in the list**"
      ]
    },
    {
      "cell_type": "code",
      "metadata": {
        "colab": {
          "base_uri": "https://localhost:8080/"
        },
        "id": "Z5wjMdfyOl3K",
        "outputId": "c4a83890-4479-48d5-d41f-bdf4c690bb05"
      },
      "source": [
        "lst=[1,2,3,4,5,6,7,6,8,9,0,0,8]\n",
        "max(set(lst),key=lst.count)"
      ],
      "execution_count": 11,
      "outputs": [
        {
          "output_type": "execute_result",
          "data": {
            "text/plain": [
              "0"
            ]
          },
          "metadata": {
            "tags": []
          },
          "execution_count": 11
        }
      ]
    },
    {
      "cell_type": "markdown",
      "metadata": {
        "id": "hrUlJqs8PEdi"
      },
      "source": [
        "**Convert range into list**"
      ]
    },
    {
      "cell_type": "code",
      "metadata": {
        "colab": {
          "base_uri": "https://localhost:8080/"
        },
        "id": "lL3mU8_zPKA6",
        "outputId": "ff2d2fa8-a042-4f98-f79a-724f58e6e9d8"
      },
      "source": [
        "arr=list(range(11))\n",
        "arr"
      ],
      "execution_count": 13,
      "outputs": [
        {
          "output_type": "execute_result",
          "data": {
            "text/plain": [
              "[0, 1, 2, 3, 4, 5, 6, 7, 8, 9, 10]"
            ]
          },
          "metadata": {
            "tags": []
          },
          "execution_count": 13
        }
      ]
    },
    {
      "cell_type": "markdown",
      "metadata": {
        "id": "zw0BXaA4PSAc"
      },
      "source": [
        "**List comprehensive**"
      ]
    },
    {
      "cell_type": "code",
      "metadata": {
        "id": "IoSJL3hcPVc_"
      },
      "source": [
        "square = [i for i in range(11)]\n",
        "#sum_square = [sum()]"
      ],
      "execution_count": 23,
      "outputs": []
    },
    {
      "cell_type": "code",
      "metadata": {
        "colab": {
          "base_uri": "https://localhost:8080/"
        },
        "id": "qUqBoyYeP_8K",
        "outputId": "20a8009d-c38f-4e46-ff51-813acb0f5425"
      },
      "source": [
        "square"
      ],
      "execution_count": 21,
      "outputs": [
        {
          "output_type": "execute_result",
          "data": {
            "text/plain": [
              "[0, 1, 2, 3, 4, 5, 6, 7, 8, 9, 10]"
            ]
          },
          "metadata": {
            "tags": []
          },
          "execution_count": 21
        }
      ]
    },
    {
      "cell_type": "markdown",
      "metadata": {
        "id": "g57jbaNeRoNE"
      },
      "source": [
        "**Dictionary comprehensive**"
      ]
    },
    {
      "cell_type": "code",
      "metadata": {
        "id": "M30ZSmdSRtrA"
      },
      "source": [
        "from string import ascii_lowercase"
      ],
      "execution_count": 24,
      "outputs": []
    },
    {
      "cell_type": "code",
      "metadata": {
        "colab": {
          "base_uri": "https://localhost:8080/"
        },
        "id": "e3jdGxNYSBQC",
        "outputId": "5fc9091b-54bc-49c1-8d01-1064b8380820"
      },
      "source": [
        "{i:j for i,j in enumerate(ascii_lowercase) if i<6}"
      ],
      "execution_count": 25,
      "outputs": [
        {
          "output_type": "execute_result",
          "data": {
            "text/plain": [
              "{0: 'a', 1: 'b', 2: 'c', 3: 'd', 4: 'e', 5: 'f'}"
            ]
          },
          "metadata": {
            "tags": []
          },
          "execution_count": 25
        }
      ]
    },
    {
      "cell_type": "markdown",
      "metadata": {
        "id": "VkdR3dP1Sj5w"
      },
      "source": [
        "**Adding more than 1 lists**"
      ]
    },
    {
      "cell_type": "code",
      "metadata": {
        "colab": {
          "base_uri": "https://localhost:8080/"
        },
        "id": "hF9nbqaBSpn7",
        "outputId": "40b8501d-2e8a-46ca-b5ac-a7a6f24ade11"
      },
      "source": [
        "l1 = [1,2,3,5]\n",
        "l2 = [2,3,4,5]\n",
        "l3=[1,2,3,4]\n",
        "[i+j+k for i,j,k in zip(l1,l2,l3)]"
      ],
      "execution_count": 26,
      "outputs": [
        {
          "output_type": "execute_result",
          "data": {
            "text/plain": [
              "[4, 7, 10, 14]"
            ]
          },
          "metadata": {
            "tags": []
          },
          "execution_count": 26
        }
      ]
    },
    {
      "cell_type": "markdown",
      "metadata": {
        "id": "c0zQ0MYBTDv-"
      },
      "source": [
        "**Extraction of nested lists**"
      ]
    },
    {
      "cell_type": "code",
      "metadata": {
        "id": "gjmw7OhLTI7n"
      },
      "source": [
        "lst = [[1,2],[3,5]] #only nested should be there"
      ],
      "execution_count": 31,
      "outputs": []
    },
    {
      "cell_type": "code",
      "metadata": {
        "colab": {
          "base_uri": "https://localhost:8080/"
        },
        "id": "InalutyWTSuf",
        "outputId": "435f74b9-d0da-43b1-eab5-c5098c6b33b5"
      },
      "source": [
        "sum(lst,[])"
      ],
      "execution_count": 32,
      "outputs": [
        {
          "output_type": "execute_result",
          "data": {
            "text/plain": [
              "[1, 2, 3, 5]"
            ]
          },
          "metadata": {
            "tags": []
          },
          "execution_count": 32
        }
      ]
    },
    {
      "cell_type": "code",
      "metadata": {
        "id": "frSI97wxTYUt"
      },
      "source": [
        ""
      ],
      "execution_count": null,
      "outputs": []
    }
  ]
}