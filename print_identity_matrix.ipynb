{
  "nbformat": 4,
  "nbformat_minor": 0,
  "metadata": {
    "colab": {
      "name": "print_identity_matrix.ipynb",
      "provenance": [],
      "authorship_tag": "ABX9TyOxMf5Jx2EINdj5sq3VRYGR",
      "include_colab_link": true
    },
    "kernelspec": {
      "name": "python3",
      "display_name": "Python 3"
    }
  },
  "cells": [
    {
      "cell_type": "markdown",
      "metadata": {
        "id": "view-in-github",
        "colab_type": "text"
      },
      "source": [
        "<a href=\"https://colab.research.google.com/github/Jauny143/Python-basics/blob/main/print_identity_matrix.ipynb\" target=\"_parent\"><img src=\"https://colab.research.google.com/assets/colab-badge.svg\" alt=\"Open In Colab\"/></a>"
      ]
    },
    {
      "cell_type": "code",
      "metadata": {
        "colab": {
          "base_uri": "https://localhost:8080/"
        },
        "id": "CjWz-Lcl8JYU",
        "outputId": "1eb8c12f-af6e-4d82-aefc-41759d9fe7f6"
      },
      "source": [
        " n=int(input(\"Enter a number: \"))\r\n",
        "for i in range(0,n):\r\n",
        "    for j in range(0,n):\r\n",
        "        if(i==j):\r\n",
        "            print(\"1\",sep=\" \",end=\" \")\r\n",
        "        else:\r\n",
        "            print(\"0\",sep=\" \",end=\" \")\r\n",
        "    print()"
      ],
      "execution_count": 14,
      "outputs": [
        {
          "output_type": "stream",
          "text": [
            "Enter a number: 6\n",
            "1 0 0 0 0 0 \n",
            "0 1 0 0 0 0 \n",
            "0 0 1 0 0 0 \n",
            "0 0 0 1 0 0 \n",
            "0 0 0 0 1 0 \n",
            "0 0 0 0 0 1 \n"
          ],
          "name": "stdout"
        }
      ]
    }
  ]
}