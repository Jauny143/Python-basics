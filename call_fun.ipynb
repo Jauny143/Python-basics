{
  "nbformat": 4,
  "nbformat_minor": 0,
  "metadata": {
    "colab": {
      "name": "call_fun.ipynb",
      "provenance": [],
      "authorship_tag": "ABX9TyPawf1u3bnx8XCUqg1vRuGL",
      "include_colab_link": true
    },
    "kernelspec": {
      "name": "python3",
      "display_name": "Python 3"
    }
  },
  "cells": [
    {
      "cell_type": "markdown",
      "metadata": {
        "id": "view-in-github",
        "colab_type": "text"
      },
      "source": [
        "<a href=\"https://colab.research.google.com/github/Jauny143/Python-basics/blob/main/call_fun.ipynb\" target=\"_parent\"><img src=\"https://colab.research.google.com/assets/colab-badge.svg\" alt=\"Open In Colab\"/></a>"
      ]
    },
    {
      "cell_type": "code",
      "metadata": {
        "colab": {
          "base_uri": "https://localhost:8080/"
        },
        "id": "O1EtDNgEizsM",
        "outputId": "aa691b3d-5972-42e3-f785-01eb8a4d7bb7"
      },
      "source": [
        "def var1(x):\r\n",
        "  return x*x\r\n",
        "\r\n",
        "def var2(x,y):\r\n",
        "  return  var1(x)*y \r\n",
        "\r\n",
        "var2(2,2)  \r\n"
      ],
      "execution_count": 6,
      "outputs": [
        {
          "output_type": "execute_result",
          "data": {
            "text/plain": [
              "8"
            ]
          },
          "metadata": {
            "tags": []
          },
          "execution_count": 6
        }
      ]
    }
  ]
}