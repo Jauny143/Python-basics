{
  "nbformat": 4,
  "nbformat_minor": 0,
  "metadata": {
    "colab": {
      "name": "Fibonacci _series.ipynb",
      "provenance": [],
      "authorship_tag": "ABX9TyNu9UOEWpDPYTHFfW0LOkF6",
      "include_colab_link": true
    },
    "kernelspec": {
      "name": "python3",
      "display_name": "Python 3"
    }
  },
  "cells": [
    {
      "cell_type": "markdown",
      "metadata": {
        "id": "view-in-github",
        "colab_type": "text"
      },
      "source": [
        "<a href=\"https://colab.research.google.com/github/Jauny143/Python-basics/blob/main/Fibonacci__series.ipynb\" target=\"_parent\"><img src=\"https://colab.research.google.com/assets/colab-badge.svg\" alt=\"Open In Colab\"/></a>"
      ]
    },
    {
      "cell_type": "code",
      "metadata": {
        "colab": {
          "base_uri": "https://localhost:8080/"
        },
        "id": "O0K8vyb76l21",
        "outputId": "7c60f25f-ff4f-4af1-fe11-01c28207b1c9"
      },
      "source": [
        "#Fibonacci series\r\n",
        "n=int(input('Enter the number of terms you want\\t'))\r\n",
        "a=0\r\n",
        "b=1\r\n",
        "for i in range(n+1):\r\n",
        "    c=a+b\r\n",
        "    b=a\r\n",
        "    a=c\r\n",
        "    print(c)\r\n",
        "   "
      ],
      "execution_count": 17,
      "outputs": [
        {
          "output_type": "stream",
          "text": [
            "Enter the number of terms you want\t10\n",
            "1\n",
            "1\n",
            "2\n",
            "3\n",
            "5\n",
            "8\n",
            "13\n",
            "21\n",
            "34\n",
            "55\n",
            "89\n"
          ],
          "name": "stdout"
        }
      ]
    }
  ]
}